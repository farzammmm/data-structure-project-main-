{
  "nbformat": 4,
  "nbformat_minor": 0,
  "metadata": {
    "colab": {
      "provenance": []
    },
    "kernelspec": {
      "name": "python3",
      "display_name": "Python 3"
    },
    "language_info": {
      "name": "python"
    }
  },
  "cells": [
    {
      "cell_type": "code",
      "source": [
        "class Queue:\n",
        "    def __init__(self, max_size):\n",
        "        self.max_size = max_size\n",
        "        self.Q = [0] * max_size\n",
        "        self.num = 0\n",
        "        self.first = 0\n",
        "        self.last = max_size - 1\n",
        "\n",
        "    def enqueue(self, item):\n",
        "        if self.num >= self.max_size:\n",
        "            raise Exception(\"Queue overflow\")\n",
        "        self.last = (self.last + 1) % self.max_size\n",
        "        self.Q[self.last] = item\n",
        "        self.num += 1\n",
        "\n",
        "    def dequeue(self):\n",
        "        if self.num == 0:\n",
        "            raise Exception(\"Queue empty\")\n",
        "        item = self.Q[self.first]\n",
        "        self.first = (self.first + 1) % self.max_size\n",
        "        self.num -= 1\n",
        "        return item\n",
        "\n",
        "    def front(self):\n",
        "        if self.num == 0:\n",
        "            raise Exception(\"Queue empty\")\n",
        "        return self.Q[self.first]\n",
        "\n",
        "    def is_empty(self):\n",
        "        return self.num == 0\n",
        "\n",
        "    def size(self):\n",
        "        return self.num\n",
        "\n",
        "    def is_full(self):\n",
        "        return self.num >= self.max_size\n",
        "\n",
        "    def remove_at_index(self, index, replacement_element):\n",
        "        if self.is_empty():\n",
        "            raise IndexError(\"Queue is empty\")\n",
        "\n",
        "        if index < 0 or index >= self.num:\n",
        "            raise IndexError(\"Index out of bounds\")\n",
        "\n",
        "        remove_index = (self.first + index) % self.max_size\n",
        "        self.Q[remove_index] = replacement_element\n",
        "\n",
        "# Example usage\n",
        "my_queue = Queue(5)\n",
        "my_queue.enqueue(1)\n",
        "my_queue.enqueue(2)\n",
        "my_queue.enqueue(3)\n",
        "my_queue.enqueue(4)\n",
        "my_queue.enqueue(5)\n",
        "\n",
        "print(\"Current queue:\", my_queue.Q)\n",
        "index_to_remove = int(input(\"Enter the index of the element to remove : \"))\n",
        "replacement_element = int(\"0\")\n",
        "my_queue.remove_at_index(index_to_remove, replacement_element)\n",
        "print(\"Queue after removal:\", my_queue.Q)\n"
      ],
      "metadata": {
        "colab": {
          "base_uri": "https://localhost:8080/"
        },
        "id": "YbjElZWj-xQ0",
        "outputId": "5290bbce-c9b1-42fa-ee77-a93bc6fff413"
      },
      "execution_count": null,
      "outputs": [
        {
          "output_type": "stream",
          "name": "stdout",
          "text": [
            "Current queue: [1, 2, 3, 4, 5]\n",
            "Enter the index of the element to remove : 2\n",
            "Queue after removal: [1, 2, 0, 4, 5]\n"
          ]
        }
      ]
    }
  ]
}